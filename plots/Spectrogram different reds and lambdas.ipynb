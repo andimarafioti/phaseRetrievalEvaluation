{
 "cells": [
  {
   "cell_type": "code",
   "execution_count": null,
   "metadata": {},
   "outputs": [],
   "source": [
    "import ltfatpy\n",
    "import scipy as sc\n",
    "import numpy as np\n",
    "import librosa "
   ]
  },
  {
   "cell_type": "code",
   "execution_count": null,
   "metadata": {},
   "outputs": [],
   "source": [
    "L = 2**12\n",
    "M = 512\n",
    "a = 64\n",
    "\n",
    "signal, fs = ltfatpy.signals.gspi.gspi()\n",
    "signal, fs = ltfatpy.signals.greasy.greasy()\n",
    "print(signal.shape)\n",
    "signal = signal[:L]\n",
    "\n",
    "\n",
    "dgt_lambda_2 = ltfatpy.dgtreal(signal, {'name': 'gauss', 'tfr': a*M/4/L}, int(a/2), int(M/2))[0]\n",
    "dgt_lambda_8 = ltfatpy.dgtreal(signal, {'name': 'gauss', 'tfr': a*M/L}, a, M)[0]\n",
    "dgt_lambda_32 = ltfatpy.dgtreal(signal, {'name': 'gauss', 'tfr': a*M*4/L}, a*2, M*2)[0]\n",
    "dgt_lambda_128 = ltfatpy.dgtreal(signal, {'name': 'gauss', 'tfr': a*M*16/L}, a*4, M*4)[0]\n",
    "\n",
    "\n",
    "g = {'name': 'gauss', 'tfr': a*M/L}\n",
    "\n",
    "dgt_red2 = ltfatpy.dgtreal(signal, g, a*2, int(M/2))[0]\n",
    "dgt_red8 = ltfatpy.dgtreal(signal, g, a, M)[0]\n",
    "dgt_red32 = ltfatpy.dgtreal(signal, g, int(a/2), M*2)[0]\n",
    "dgt_red128 = ltfatpy.dgtreal(signal, g, int(a/4), M*4)[0]\n"
   ]
  },
  {
   "cell_type": "code",
   "execution_count": null,
   "metadata": {},
   "outputs": [],
   "source": [
    "import IPython.display\n",
    "from IPython.display import Audio\n",
    "print(fs)\n",
    "display(Audio(signal, rate=fs))"
   ]
  },
  {
   "cell_type": "code",
   "execution_count": null,
   "metadata": {},
   "outputs": [],
   "source": [
    "import matplotlib\n",
    "import matplotlib.pyplot as plt\n",
    "\n",
    "font = {'family' : 'Times new roman',\n",
    "        'weight' : 'normal',\n",
    "        'size'   : 16}\n",
    "matplotlib.rc('font', **font)\n",
    "matplotlib.rcParams['image.cmap'] =  'inferno'\n"
   ]
  },
  {
   "cell_type": "code",
   "execution_count": null,
   "metadata": {},
   "outputs": [],
   "source": [
    "plt.figure(figsize=(9,9));\n",
    "plt.subplot(221);\n",
    "ltfatpy.plotdgtreal(dgt_lambda_2, a/2, M/2, dynrange=60);\n",
    "plt.tick_params(\n",
    "    axis='x',         \n",
    "    which='both',   \n",
    "    bottom=False,\n",
    "    labelbottom=False)\n",
    "plt.xlabel('')\n",
    "plt.title('$\\lambda = 2$')\n",
    "\n",
    "plt.subplot(222);\n",
    "ltfatpy.plotdgtreal(dgt_lambda_8, a, M, dynrange=60);\n",
    "plt.tick_params(\n",
    "    axis='both',         \n",
    "    which='both',   \n",
    "    left=False,  \n",
    "    bottom=False,\n",
    "    labelleft=False,\n",
    "    labelbottom=False)\n",
    "plt.ylabel('')\n",
    "plt.xlabel('')\n",
    "plt.title('$\\lambda = 8$')\n",
    "\n",
    "plt.subplot(223);\n",
    "ltfatpy.plotdgtreal(dgt_lambda_32, a*2, M*2, dynrange=60);\n",
    "plt.title('$\\lambda = 32$')\n",
    "\n",
    "plt.subplot(224);\n",
    "ltfatpy.plotdgtreal(dgt_lambda_128, a*4, M*4, dynrange=60);\n",
    "plt.tick_params(\n",
    "    axis='y',          # changes apply to the x-axis\n",
    "    which='both',      # both major and minor ticks are affected\n",
    "    left=False,      # ticks along the bottom edge are off\n",
    "    right=False,         # ticks along the top edge are off\n",
    "    labelleft=False) # labels along the bottom edge are off\n",
    "plt.ylabel('')\n",
    "plt.title('$\\lambda = 128$')\n",
    "\n",
    "plt.savefig(\"spectrograms_lambda.pdf\", bbox_inches='tight')"
   ]
  },
  {
   "cell_type": "code",
   "execution_count": null,
   "metadata": {},
   "outputs": [],
   "source": [
    "plt.figure(figsize=(9,9));\n",
    "plt.subplot(221);\n",
    "ltfatpy.plotdgtreal(dgt_red2, a*2, M/2, dynrange=60);\n",
    "plt.tick_params(\n",
    "    axis='x',         \n",
    "    which='both',   \n",
    "    bottom=False,\n",
    "    labelbottom=False)\n",
    "plt.xlabel('')\n",
    "plt.title('$M/a = 2$')\n",
    "\n",
    "plt.subplot(222);\n",
    "ltfatpy.plotdgtreal(dgt_red8, a, M, dynrange=60);\n",
    "plt.tick_params(\n",
    "    axis='both',         \n",
    "    which='both',   \n",
    "    left=False,  \n",
    "    bottom=False,\n",
    "    labelleft=False,\n",
    "    labelbottom=False)\n",
    "plt.ylabel('')\n",
    "plt.xlabel('')\n",
    "plt.title('$M/a = 8$')\n",
    "\n",
    "plt.subplot(223);\n",
    "ltfatpy.plotdgtreal(dgt_red32, a/2, M*2, dynrange=60);\n",
    "plt.title('$M/a = 32$')\n",
    "\n",
    "plt.subplot(224);\n",
    "ltfatpy.plotdgtreal(dgt_red128, a/4, M*4, dynrange=60);\n",
    "plt.tick_params(\n",
    "    axis='y',          # changes apply to the x-axis\n",
    "    which='both',      # both major and minor ticks are affected\n",
    "    left=False,      # ticks along the bottom edge are off\n",
    "    right=False,         # ticks along the top edge are off\n",
    "    labelleft=False) # labels along the bottom edge are off\n",
    "plt.ylabel('')\n",
    "plt.title('$M/a = 128$')\n",
    "plt.savefig(\"spectrograms_red.pdf\", bbox_inches='tight')"
   ]
  },
  {
   "cell_type": "code",
   "execution_count": null,
   "metadata": {},
   "outputs": [],
   "source": []
  }
 ],
 "metadata": {
  "kernelspec": {
   "display_name": "Python 3",
   "language": "python",
   "name": "python3"
  },
  "language_info": {
   "codemirror_mode": {
    "name": "ipython",
    "version": 3
   },
   "file_extension": ".py",
   "mimetype": "text/x-python",
   "name": "python",
   "nbconvert_exporter": "python",
   "pygments_lexer": "ipython3",
   "version": "3.7.3"
  }
 },
 "nbformat": 4,
 "nbformat_minor": 2
}
