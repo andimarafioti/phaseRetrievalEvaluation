{
 "cells": [
  {
   "cell_type": "code",
   "execution_count": null,
   "metadata": {},
   "outputs": [],
   "source": [
    "import numpy as np\n",
    "import matplotlib.pyplot as plt\n",
    "from tifresi.stft import GaussTruncTF\n",
    "import ltfatpy"
   ]
  },
  {
   "cell_type": "code",
   "execution_count": null,
   "metadata": {},
   "outputs": [],
   "source": [
    "import matplotlib\n",
    "font = {'family' : 'sans-serif',\n",
    "        'weight' : 'bold',\n",
    "        'size'   : 16}\n",
    "\n",
    "matplotlib.rc('font', **font)"
   ]
  },
  {
   "cell_type": "code",
   "execution_count": null,
   "metadata": {},
   "outputs": [],
   "source": [
    "def plot_gauss_window_and_fft(stft_channels, hop_size, L=512*128):\n",
    "    g = {'name': 'gauss', 'tfr': hop_size * stft_channels / L}\n",
    "    gauss_window, _ = gabwin(g, hop_size, stft_channels, L)\n",
    "#     gauss_window = GaussTruncTF(hop_size=hop_size, stft_channels=stft_channels)._analysis_window(None)\n",
    "    gauss_window = np.fft.fftshift(gauss_window)\n",
    "\n",
    "    fft_gauss_window = np.abs(np.fft.fftshift(np.fft.fft(gauss_window)))\n",
    "    \n",
    "    plt.figure(figsize=(12, 3))\n",
    "    plt.subplot(121)\n",
    "    plt.plot(gauss_window/np.max(gauss_window))\n",
    "    plt.xlim([32768-9000, 32768+9000])\n",
    "    plt.ylim([-.05, 1.1])\n",
    "    plt.xlabel('Samples')\n",
    "    plt.title('Gauss($\\lambda$={}, red={}, M={})'.format(int(stft_channels*hop_size/len(fft_gauss_window)), int(stft_channels/hop_size), int(stft_channels)))\n",
    "\n",
    "    plt.subplot(122)\n",
    "    t = np.linspace(-np.pi, np.pi, len(fft_gauss_window))\n",
    "    plt.plot(t, fft_gauss_window/np.max(fft_gauss_window))\n",
    "    plt.axis([-0.05, 0.05, -0.05, 1.1])\n",
    "    plt.xlabel('Absolute frequency')\n",
    "    plt.title('Magnitude FFT')\n",
    "    \n",
    "    plt.savefig(\"gauss_and_fft_M{}_a{}.pdf\".format(stft_channels, hop_size), bbox_inches='tight')"
   ]
  },
  {
   "cell_type": "code",
   "execution_count": null,
   "metadata": {},
   "outputs": [],
   "source": [
    "plot_gauss_window_and_fft(stft_channels=512, hop_size=128)\n",
    "plot_gauss_window_and_fft(stft_channels=512*4, hop_size=128*4)\n",
    "plot_gauss_window_and_fft(stft_channels=512*16, hop_size=128*16)\n",
    "\n",
    "plot_gauss_window_and_fft(stft_channels=512*16*8, hop_size=128*2)"
   ]
  },
  {
   "cell_type": "code",
   "execution_count": null,
   "metadata": {},
   "outputs": [],
   "source": []
  }
 ],
 "metadata": {
  "kernelspec": {
   "display_name": "Python 3",
   "language": "python",
   "name": "python3"
  },
  "language_info": {
   "codemirror_mode": {
    "name": "ipython",
    "version": 3
   },
   "file_extension": ".py",
   "mimetype": "text/x-python",
   "name": "python",
   "nbconvert_exporter": "python",
   "pygments_lexer": "ipython3",
   "version": "3.7.3"
  }
 },
 "nbformat": 4,
 "nbformat_minor": 2
}
