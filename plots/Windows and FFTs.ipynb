{
 "cells": [
  {
   "cell_type": "code",
   "execution_count": null,
   "metadata": {},
   "outputs": [],
   "source": [
    "import numpy as np\n",
    "import matplotlib.pyplot as plt\n",
    "from tifresi.stft import GaussTruncTF\n",
    "import ltfatpy"
   ]
  },
  {
   "cell_type": "code",
   "execution_count": null,
   "metadata": {},
   "outputs": [],
   "source": [
    "import matplotlib\n",
    "font = {'family' : 'sans-serif',\n",
    "        'weight' : 'bold',\n",
    "        'size'   : 21}\n",
    "\n",
    "matplotlib.rc('font', **font)"
   ]
  },
  {
   "cell_type": "code",
   "execution_count": null,
   "metadata": {},
   "outputs": [],
   "source": [
    "def gauss_and_fft(stft_channels, hop_size, L=512*128):\n",
    "    g = {'name': 'gauss', 'tfr': hop_size * stft_channels / L}\n",
    "    gauss_window, _ = ltfatpy.gabor.gabwin.gabwin(g, hop_size, stft_channels, L)\n",
    "    gauss_window = np.fft.fftshift(gauss_window)\n",
    "\n",
    "    fft_gauss_window = np.abs(np.fft.fftshift(np.fft.fft(gauss_window)))\n",
    "    \n",
    "    return gauss_window, fft_gauss_window"
   ]
  },
  {
   "cell_type": "code",
   "execution_count": null,
   "metadata": {},
   "outputs": [],
   "source": [
    "sampling_rate = 44100\n",
    "L = 512*128\n",
    "\n",
    "plt.figure(figsize=(15, 6))\n",
    "\n",
    "plt.subplot(121)\n",
    "\n",
    "t = np.linspace(0, 1000*L/sampling_rate, L)\n",
    "gauss_window, fft_gauss_window = gauss_and_fft(stft_channels=512, hop_size=128)\n",
    "a = plt.plot(t, gauss_window/np.max(gauss_window), '-.', label='$\\lambda$=1', linewidth=4)\n",
    "gauss_window, fft_gauss_window = gauss_and_fft(stft_channels=512*4, hop_size=128*4)\n",
    "plt.plot(t, gauss_window/np.max(gauss_window), '-', label='$\\lambda$=16', linewidth=4)\n",
    "gauss_window, fft_gauss_window = gauss_and_fft(stft_channels=512*16, hop_size=128*16)\n",
    "plt.plot(t, gauss_window/np.max(gauss_window), '--', label='$\\lambda$=256', linewidth=4)\n",
    "plt.xlim([601, 879])\n",
    "plt.ylim([-.05, 1.1])\n",
    "plt.xlabel('Time[ms]')\n",
    "\n",
    "plt.subplot(122)\n",
    "\n",
    "t = np.linspace(-sampling_rate, sampling_rate, len(fft_gauss_window))\n",
    "gauss_window, fft_gauss_window = gauss_and_fft(stft_channels=512, hop_size=128)\n",
    "plt.plot(t, fft_gauss_window/np.max(fft_gauss_window), '-.', label='$\\lambda$=1', linewidth=4)\n",
    "gauss_window, fft_gauss_window = gauss_and_fft(stft_channels=512*4, hop_size=128*4)\n",
    "plt.plot(t, fft_gauss_window/np.max(fft_gauss_window), '-', label='$\\lambda$=16', linewidth=4)\n",
    "gauss_window, fft_gauss_window = gauss_and_fft(stft_channels=512*16, hop_size=128*16)\n",
    "plt.plot(t, fft_gauss_window/np.max(fft_gauss_window), '--', label='$\\lambda$=256', linewidth=4)\n",
    "plt.axis([-749, 749, -0.05, 1.1])\n",
    "plt.xlabel('Frequency (Hz)')\n",
    "\n",
    "plt.legend(loc='upper right')\n",
    "\n",
    "plt.savefig(\"gauss_and_fft_general.pdf\", bbox_inches='tight')"
   ]
  },
  {
   "cell_type": "code",
   "execution_count": null,
   "metadata": {},
   "outputs": [],
   "source": []
  }
 ],
 "metadata": {
  "kernelspec": {
   "display_name": "Python 3",
   "language": "python",
   "name": "python3"
  },
  "language_info": {
   "codemirror_mode": {
    "name": "ipython",
    "version": 3
   },
   "file_extension": ".py",
   "mimetype": "text/x-python",
   "name": "python",
   "nbconvert_exporter": "python",
   "pygments_lexer": "ipython3",
   "version": "3.9.1"
  }
 },
 "nbformat": 4,
 "nbformat_minor": 2
}
